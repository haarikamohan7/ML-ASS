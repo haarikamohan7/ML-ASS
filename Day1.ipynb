{
 "cells": [
  {
   "cell_type": "code",
   "execution_count": 11,
   "id": "e333b14c-d003-458e-8dab-df90e4dd1374",
   "metadata": {},
   "outputs": [
    {
     "name": "stdout",
     "output_type": "stream",
     "text": [
      "Integer variable: 5, Type: <class 'int'>\n",
      "String variable: harika, Type: <class 'str'>\n",
      "Float variable: 30.05, Type: <class 'float'>\n",
      "Boolean variable: False, Type: <class 'bool'>\n"
     ]
    }
   ],
   "source": [
    "int_var =5\n",
    "str_var = \"harika\"\n",
    "float_var= 30.05\n",
    "boolean_var = False\n",
    "print(f\"Integer variable: {int_var}, Type: {type(int_var)}\")\n",
    "print(f\"String variable: {str_var}, Type: {type(str_var)}\")\n",
    "print(f\"Float variable: {float_var}, Type: {type(float_var)}\")\n",
    "print(f\"Boolean variable: {boolean_var}, Type: {type(boolean_var)}\")\n"
   ]
  },
  {
   "cell_type": "code",
   "execution_count": null,
   "id": "0d1674b3-8d19-4fab-895c-766d342e8756",
   "metadata": {},
   "outputs": [],
   "source": []
  }
 ],
 "metadata": {
  "kernelspec": {
   "display_name": "Python [conda env:base] *",
   "language": "python",
   "name": "conda-base-py"
  },
  "language_info": {
   "codemirror_mode": {
    "name": "ipython",
    "version": 3
   },
   "file_extension": ".py",
   "mimetype": "text/x-python",
   "name": "python",
   "nbconvert_exporter": "python",
   "pygments_lexer": "ipython3",
   "version": "3.12.7"
  }
 },
 "nbformat": 4,
 "nbformat_minor": 5
}
