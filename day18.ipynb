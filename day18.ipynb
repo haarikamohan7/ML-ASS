{
 "cells": [
  {
   "cell_type": "code",
   "execution_count": 2,
   "id": "167bf940-9acd-41ae-b172-03a79a904c05",
   "metadata": {},
   "outputs": [
    {
     "name": "stdout",
     "output_type": "stream",
     "text": [
      "Page Title: Error fetching the page: ('Connection aborted.', ConnectionResetError(54, 'Connection reset by peer'))\n"
     ]
    }
   ],
   "source": [
    "import requests\n",
    "from bs4 import BeautifulSoup\n",
    "\n",
    "def fetch_page_title(url):\n",
    "    \"\"\"\n",
    "    Fetches and prints the title of the webpage at the given URL.\n",
    "    \n",
    "    Args:\n",
    "        url (str): The URL of the webpage.\n",
    "    \n",
    "    Returns:\n",
    "        str: The title of the webpage, or an error message if fetching fails.\n",
    "    \"\"\"\n",
    "    try:\n",
    "        response = requests.get(url)\n",
    "        response.raise_for_status() \n",
    "        \n",
    "        soup = BeautifulSoup(response.text, 'html.parser')\n",
    "        title = soup.title.string if soup.title else \"No title found\"\n",
    "        return title\n",
    "    except requests.exceptions.RequestException as e:\n",
    "        return f\"Error fetching the page: {e}\"\n",
    "\n",
    "url = 'https://example.com'\n",
    "page_title = fetch_page_title(url)\n",
    "print(\"Page Title:\", page_title)\n"
   ]
  }
 ],
 "metadata": {
  "kernelspec": {
   "display_name": "Python [conda env:base] *",
   "language": "python",
   "name": "conda-base-py"
  },
  "language_info": {
   "codemirror_mode": {
    "name": "ipython",
    "version": 3
   },
   "file_extension": ".py",
   "mimetype": "text/x-python",
   "name": "python",
   "nbconvert_exporter": "python",
   "pygments_lexer": "ipython3",
   "version": "3.12.7"
  }
 },
 "nbformat": 4,
 "nbformat_minor": 5
}
