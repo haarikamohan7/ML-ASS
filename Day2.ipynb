{
 "cells": [
  {
   "cell_type": "code",
   "execution_count": 8,
   "id": "c2e5e2ca-d7ef-4968-8450-e27f97aa13f9",
   "metadata": {},
   "outputs": [
    {
     "name": "stdout",
     "output_type": "stream",
     "text": [
      "List: [10, 'mallareddy', 30, 'Hyderabad', 30, 40]\n",
      "Tuple: (10, 'harika', 20, 'june', 30, 40)\n",
      "Dictionary: {'name': 'Harika', 'age': '19', 'University': 'MRUH', 'city': 'Hyderabad'}\n",
      "Accessed from List - First element: 10, Second element: mallareddy\n",
      "Accessed from Tuple - First element: 10, Second element: harika\n",
      "Accessed from Dictionary - Name: Harika, City: Hyderabad\n"
     ]
    }
   ],
   "source": [
    "a_tuple = (10,\"harika\",20,\"june\",30,40)\n",
    "b_list = [10,\"mallareddy\", 30,\"Hyderabad\",30,40]\n",
    "c_dict = {\n",
    "    \"name\" : \"Harika\",\n",
    "    \"age\" : \"19\",\n",
    "    \"University\":\"MRUH\",\n",
    "    \"city\" : \"Hyderabad\"\n",
    "}\n",
    "list_first_element = b_list[0]\n",
    "list_second_element = b_list[1]\n",
    "tuple_first_element = a_tuple[0]   \n",
    "tuple_second_element = a_tuple[1]\n",
    "dict_name = c_dict[\"name\"]  \n",
    "dict_city = c_dict[\"city\"] \n",
    "print(f\"List: {b_list}\")\n",
    "print(f\"Tuple: {a_tuple}\")\n",
    "print(f\"Dictionary: {c_dict}\")\n",
    "print(f\"Accessed from List - First element: {list_first_element}, Second element: {list_second_element}\")\n",
    "print(f\"Accessed from Tuple - First element: {tuple_first_element}, Second element: {tuple_second_element}\")\n",
    "print(f\"Accessed from Dictionary - Name: {dict_name}, City: {dict_city}\")\n",
    "    \n"
   ]
  }
 ],
 "metadata": {
  "kernelspec": {
   "display_name": "Python [conda env:base] *",
   "language": "python",
   "name": "conda-base-py"
  },
  "language_info": {
   "codemirror_mode": {
    "name": "ipython",
    "version": 3
   },
   "file_extension": ".py",
   "mimetype": "text/x-python",
   "name": "python",
   "nbconvert_exporter": "python",
   "pygments_lexer": "ipython3",
   "version": "3.12.7"
  }
 },
 "nbformat": 4,
 "nbformat_minor": 5
}
