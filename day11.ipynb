{
 "cells": [
  {
   "cell_type": "code",
   "execution_count": 1,
   "id": "065f6507-fea5-4dfb-9ae6-5988bfb03d5a",
   "metadata": {},
   "outputs": [
    {
     "name": "stdout",
     "output_type": "stream",
     "text": [
      "Webpage Title: Example Domain\n"
     ]
    }
   ],
   "source": [
    "import requests\n",
    "from bs4 import BeautifulSoup\n",
    "\n",
    "def fetch_webpage_title(url):\n",
    "    \"\"\"\n",
    "    Fetches and prints the title of a webpage.\n",
    "    \n",
    "    Args:\n",
    "        url (str): The URL of the webpage.\n",
    "    \n",
    "    Returns:\n",
    "        str: The title of the webpage, or an error message if not found.\n",
    "    \"\"\"\n",
    "    try:\n",
    "        response = requests.get(url)\n",
    "        response.raise_for_status()\n",
    "        soup = BeautifulSoup(response.text, 'html.parser')\n",
    "        title = soup.title.string if soup.title else \"No title found\"\n",
    "        return title\n",
    "    except requests.exceptions.RequestException as e:\n",
    "        return f\"Error fetching the webpage: {e}\"\n",
    "test_url = 'https://example.com'\n",
    "webpage_title = fetch_webpage_title(test_url)\n",
    "print(\"Webpage Title:\", webpage_title)\n"
   ]
  }
 ],
 "metadata": {
  "kernelspec": {
   "display_name": "Python [conda env:base] *",
   "language": "python",
   "name": "conda-base-py"
  },
  "language_info": {
   "codemirror_mode": {
    "name": "ipython",
    "version": 3
   },
   "file_extension": ".py",
   "mimetype": "text/x-python",
   "name": "python",
   "nbconvert_exporter": "python",
   "pygments_lexer": "ipython3",
   "version": "3.12.7"
  }
 },
 "nbformat": 4,
 "nbformat_minor": 5
}
