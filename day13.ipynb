{
 "cells": [
  {
   "cell_type": "code",
   "execution_count": 1,
   "id": "ac127d52-ec5c-48a3-a075-083ebcf5c83e",
   "metadata": {},
   "outputs": [
    {
     "name": "stdout",
     "output_type": "stream",
     "text": [
      "Sentence: NLP is amazing and fun to learn.\n",
      "POS Tags:\n",
      "NLP: PROPN\n",
      "is: AUX\n",
      "amazing: ADJ\n",
      "and: CCONJ\n",
      "fun: ADJ\n",
      "to: PART\n",
      "learn: VERB\n",
      ".: PUNCT\n"
     ]
    }
   ],
   "source": [
    "import spacy\n",
    "\n",
    "def pos_tagging(sentence):\n",
    "    \"\"\"\n",
    "    Performs part-of-speech tagging on the given sentence using SpaCy.\n",
    "    \n",
    "    Args:\n",
    "        sentence (str): The input sentence for POS tagging.\n",
    "    \n",
    "    Returns:\n",
    "        list: A list of tuples containing the token and its POS tag.\n",
    "    \"\"\"\n",
    "    nlp = spacy.load(\"en_core_web_sm\")\n",
    "    \n",
    "    doc = nlp(sentence)\n",
    "\n",
    "    pos_tags = [(token.text, token.pos_) for token in doc]\n",
    "    return pos_tags\n",
    "sentence = 'NLP is amazing and fun to learn.'\n",
    "pos_tags = pos_tagging(sentence)\n",
    "print(\"Sentence:\", sentence)\n",
    "print(\"POS Tags:\")\n",
    "for token, pos in pos_tags:\n",
    "    print(f\"{token}: {pos}\")\n"
   ]
  }
 ],
 "metadata": {
  "kernelspec": {
   "display_name": "Python [conda env:base] *",
   "language": "python",
   "name": "conda-base-py"
  },
  "language_info": {
   "codemirror_mode": {
    "name": "ipython",
    "version": 3
   },
   "file_extension": ".py",
   "mimetype": "text/x-python",
   "name": "python",
   "nbconvert_exporter": "python",
   "pygments_lexer": "ipython3",
   "version": "3.12.7"
  }
 },
 "nbformat": 4,
 "nbformat_minor": 5
}
